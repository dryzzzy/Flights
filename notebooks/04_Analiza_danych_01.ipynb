{
 "cells": [
  {
   "cell_type": "markdown",
   "metadata": {},
   "source": [
    " # Opis notatnika\n",
    " Po pobraniu danych z zewnętrznego serwisu, a następnie załadowaniu ich do naszej wewnętrznej (prawie firmowej) bazy, czas na ich analizę oraz eksplorację.\n",
    " Ponieważ zakładamy, że pracujemy z tym zbiorem pierwszy raz, warto przejrzeć go pod dość szerokim kątem, aby nabrać świadomości, jakie informacje są tam ukryte i co stanowi potencjalną wartość biznesową.\n",
    "\n",
    " Eksplorację zaczniemy od centralnej bazy danych `flight`, w której nastawimy się w szczególności na zmienną `dep_delay` (za dokumentacją u [źródła](https://www.kaggle.com/datasets/threnjen/2019-airline-delays-and-cancellations?resource=download&select=raw_data_documentation.txt)), która informuje o wysokości opóźnienia odlotu samolotu.\n",
    " Wykonując kolejne kroki, najpierw odpowiednio przygotujemy nasz wyjściowy zbiór do analizy, by później zacząć go wzbogacać o dodatkowe informacje, np. pogodowe.\n",
    "\n",
    " Dzięki wyciągnięciu wniosków z danych, które otrzymaliśmy, będziemy mogli zaproponować system raportowania wspomagający biznes, czy zdefiniować dalsze kroki, które usprawnią działania lotnisk.\n",
    "\n",
    " Powodzenia!\n",
    "\n",
    " > Ze względu na objętość zadań w tym obszarze, ten krok podzielony został na kilka mniejszych części.\n",
    " \n",
    " W tej części warsztatu wcielasz się w rolę Analiyka Danych, którego zadaniem jest wykonanie analizy eksplotacyjnej zbioru danych - jedno z wymagań dostarczonych przez klienta."
   ]
  },
  {
   "cell_type": "markdown",
   "metadata": {},
   "source": [
    " # Konfiguracja\n",
    " Uzupełnij implementajcę procedury `load_table_from_db`, która będzie odpowiedzialna za\n",
    " pobieranie danych z bazy danych oraz zwrócenie ramki do dalszej pracy.\n",
    "\n",
    " W trakcie pracy nad jej implementacją możesz wspomóc się następującymi materiałami:\n",
    " - `read_sql` - dokumentacja techniczna metody: [klik](https://pandas.pydata.org/docs/reference/api/pandas.read_sql.html),\n",
    " - `SQL - analiza danych -> Zjazd 1 - materiał dodatkowe -> Export danych -> Python`\n",
    "\n",
    " > **Uwaga:**  \n",
    " > Metoda powinna tylko pobierać dane z bazy, nie implementuj tutaj dodatkowej logiki."
   ]
  },
  {
   "cell_type": "markdown",
   "metadata": {},
   "source": [
    " Tutaj zaimportuj wymagane biblioteki"
   ]
  },
  {
   "cell_type": "code",
   "execution_count": null,
   "metadata": {},
   "outputs": [],
   "source": [
    "import mysql.connector as sql\n",
    "import pandas as pd\n",
    "from sqlalchemy import create_engine, text\n",
    "from sqlalchemy.engine import URL\n",
    "import plotly.express as px\n",
    "import numpy as np"
   ]
  },
  {
   "cell_type": "markdown",
   "metadata": {},
   "source": [
    " ## Połączenie z bazą danych\n",
    " Tutaj uzupełnij konfigurację połączenia"
   ]
  },
  {
   "cell_type": "code",
   "execution_count": null,
   "metadata": {},
   "outputs": [],
   "source": [
    "username = 'postgres'\n",
    "password = 'postgres'\n",
    "\n",
    "host = 'localhost'\n",
    "database = 'airlines'\n",
    "port = 5432"
   ]
  },
  {
   "cell_type": "markdown",
   "metadata": {},
   "source": [
    " Tutaj stwórz zmienną engine, która zostanie użyta do połączenia z bazą danych"
   ]
  },
  {
   "cell_type": "code",
   "execution_count": null,
   "metadata": {},
   "outputs": [],
   "source": [
    "url = f'postgresql://{username}:{password}@{host}:{port}/{database}'\n",
    "engine = create_engine(url)"
   ]
  },
  {
   "cell_type": "markdown",
   "metadata": {},
   "source": [
    " Tutaj uzupełnij implementację metody `read_sql_table`"
   ]
  },
  {
   "cell_type": "code",
   "execution_count": null,
   "metadata": {},
   "outputs": [],
   "source": [
    "def read_sql_table(table_name):\n",
    "    try:\n",
    "        query = f\"SELECT * FROM {table_name}\"\n",
    "        df = pd.read_sql(query, con=engine)\n",
    "        print(f\"Data from table '{table_name}' loaded successfully.\")\n",
    "        return df\n",
    "    except Exception as e:\n",
    "        print(f\"Failed to load data from table '{table_name}': {e}\")\n",
    "        return None"
   ]
  },
  {
   "cell_type": "markdown",
   "metadata": {},
   "source": [
    " # Wczytanie danych do obszaru roboczego\n",
    " Używając metody `read_sql_table`, wczytaj do obszaru roboczego zawartośc tabeli `flight` i zapisz w ramce o nazwie `flight_df_raw`.\n",
    "\n",
    " Następnie wykonaj poniższe polecenia:  \n",
    " 1. Usuń z ramki loty, które:\n",
    "     * odbyły się w 2020 roku,\n",
    "     * zostały anulowane.  \n",
    " 2. Zmień nazwę kolumny `dep_delay_new` na `dep_delay`.  \n",
    " 3. Tak powstałą tabelę zapisz do ramki, która nazywać się będzie `flight_df` - z tej ramki będziemy korzystali do końca analizy.  \n",
    " 4. Wyznacz, ile kolumn ma tabela `flight_df`, wynik zapisz do zmiennej `flight_df_columns_amount`.  \n",
    " 5. Wyznacz, ile wierszy ma tabela `flight_df`, wynik zapisz do zmiennej `flight_df_rows_amount`."
   ]
  },
  {
   "cell_type": "markdown",
   "metadata": {},
   "source": [
    " Tutaj wczytaj ramkę do obszaru roboczego"
   ]
  },
  {
   "cell_type": "code",
   "execution_count": null,
   "metadata": {},
   "outputs": [],
   "source": [
    "flight_df_raw = pd.read_sql_table('flight', con=engine)"
   ]
  },
  {
   "cell_type": "code",
   "execution_count": null,
   "metadata": {
    "tags": []
   },
   "outputs": [],
   "source": [
    "flight_df_raw"
   ]
  },
  {
   "cell_type": "code",
   "execution_count": null,
   "metadata": {
    "tags": []
   },
   "outputs": [],
   "source": [
    "flights_in_2020 = flight_df_raw[flight_df_raw['year'] == 2020].shape[0]\n",
    "print(f\"Liczba lotów w roku 2020: {flights_in_2020}\")"
   ]
  },
  {
   "cell_type": "code",
   "execution_count": null,
   "metadata": {
    "tags": []
   },
   "outputs": [],
   "source": [
    "cancelled_flights = flight_df_raw[flight_df_raw['cancelled'] == 1.0].shape[0]\n",
    "print(f\"Liczba odwołanych lotów: {cancelled_flights}\")"
   ]
  },
  {
   "cell_type": "markdown",
   "metadata": {},
   "source": [
    " Tutaj oczyść ramkę usuwając loty z roku 2020 oraz te anulowane"
   ]
  },
  {
   "cell_type": "code",
   "execution_count": null,
   "metadata": {},
   "outputs": [],
   "source": [
    "# Usunięcie lotów z 2020 roku\n",
    "flight_df_raw = flight_df_raw[flight_df_raw['year'] != 2020]\n",
    "\n",
    "# Usunięcie odwołanych lotów\n",
    "flight_df_raw = flight_df_raw[flight_df_raw['cancelled'] != 1.0]"
   ]
  },
  {
   "cell_type": "code",
   "execution_count": null,
   "metadata": {
    "tags": []
   },
   "outputs": [],
   "source": [
    "flights_in_2020 = flight_df_raw[flight_df_raw['year'] == 2020].shape[0]\n",
    "print(f\"Liczba lotów w roku 2020: {flights_in_2020}\")"
   ]
  },
  {
   "cell_type": "code",
   "execution_count": null,
   "metadata": {
    "tags": []
   },
   "outputs": [],
   "source": [
    "cancelled_flights = flight_df_raw[flight_df_raw['cancelled'] == 1.0].shape[0]\n",
    "print(f\"Liczba odwołanych lotów: {cancelled_flights}\")"
   ]
  },
  {
   "cell_type": "markdown",
   "metadata": {},
   "source": [
    " Tutaj zmień nazwę kolumny `dep_delay_new` na `dep_delay`"
   ]
  },
  {
   "cell_type": "code",
   "execution_count": null,
   "metadata": {},
   "outputs": [],
   "source": [
    "flight_df_raw.rename(columns = {'dep_delay_new':'dep_delay'}, inplace = True)"
   ]
  },
  {
   "cell_type": "code",
   "execution_count": null,
   "metadata": {
    "tags": []
   },
   "outputs": [],
   "source": [
    "flight_df = flight_df_raw"
   ]
  },
  {
   "cell_type": "markdown",
   "metadata": {},
   "source": [
    " Tutaj zainicjuj zmienne `flight_df_columns_amount` oraz `flight_df_rows_amount`, które zostaną użyte do sprawdzenia poprawności wykonania tej części"
   ]
  },
  {
   "cell_type": "code",
   "execution_count": null,
   "metadata": {},
   "outputs": [],
   "source": [
    "flight_df_columns_amount = flight_df.shape[1]\n",
    "flight_df_columns_amount"
   ]
  },
  {
   "cell_type": "code",
   "execution_count": null,
   "metadata": {
    "tags": []
   },
   "outputs": [],
   "source": [
    "flight_df_rows_amount = flight_df.shape[0]\n",
    "flight_df_rows_amount"
   ]
  },
  {
   "cell_type": "code",
   "execution_count": null,
   "metadata": {
    "tags": []
   },
   "outputs": [],
   "source": [
    "flight_df['cancelled'].unique()"
   ]
  },
  {
   "cell_type": "code",
   "execution_count": null,
   "metadata": {
    "tags": []
   },
   "outputs": [],
   "source": [
    "nan_count = flight_df['cancelled'].isna().sum()\n",
    "print(f\"Liczba wierszy z wartością NaN w kolumnie 'cancelled': {nan_count}\")"
   ]
  },
  {
   "cell_type": "code",
   "execution_count": null,
   "metadata": {
    "tags": []
   },
   "outputs": [],
   "source": [
    "flight_df['year'].unique()"
   ]
  },
  {
   "cell_type": "code",
   "execution_count": null,
   "metadata": {
    "tags": []
   },
   "outputs": [],
   "source": [
    "nan_count = flight_df['year'].isna().sum()\n",
    "print(f\"Liczba wierszy z wartością NaN w kolumnie 'year': {nan_count}\")"
   ]
  },
  {
   "cell_type": "code",
   "execution_count": null,
   "metadata": {
    "tags": []
   },
   "outputs": [],
   "source": [
    "flight_df = flight_df_raw.dropna(subset=['year', 'cancelled'])"
   ]
  },
  {
   "cell_type": "code",
   "execution_count": null,
   "metadata": {
    "tags": []
   },
   "outputs": [],
   "source": [
    "nan_count = flight_df['cancelled'].isna().sum()\n",
    "print(f\"Liczba wierszy z wartością NaN w kolumnie 'cancelled': {nan_count}\")"
   ]
  },
  {
   "cell_type": "code",
   "execution_count": null,
   "metadata": {
    "tags": []
   },
   "outputs": [],
   "source": [
    "nan_count = flight_df['year'].isna().sum()\n",
    "print(f\"Liczba wierszy z wartością NaN w kolumnie 'year': {nan_count}\")"
   ]
  },
  {
   "cell_type": "markdown",
   "metadata": {},
   "source": [
    " ## Sprawdzenie\n",
    " Uruchom kod poniżej, aby sprawdzić, czy ta część została poprawnie wykonana"
   ]
  },
  {
   "cell_type": "markdown",
   "metadata": {},
   "source": [
    " ### Sprawdzenie liczby kolumn"
   ]
  },
  {
   "cell_type": "code",
   "execution_count": null,
   "metadata": {},
   "outputs": [],
   "source": [
    "flight_df_expected_columns_amount = 28\n",
    "assert flight_df_columns_amount == flight_df_expected_columns_amount, f'Oczekiwano {flight_df_expected_columns_amount} kolumn, otrzymano {flight_df_columns_amount}'"
   ]
  },
  {
   "cell_type": "markdown",
   "metadata": {},
   "source": [
    " ### Sprawdzenie liczby wierszy"
   ]
  },
  {
   "cell_type": "code",
   "execution_count": null,
   "metadata": {},
   "outputs": [],
   "source": [
    "flight_df_expected_rows_amount = 1095743\n",
    "assert flight_df_rows_amount == flight_df_expected_rows_amount, f'Oczekiwano {flight_df_expected_rows_amount} wierszy, otrzymano {flight_df_rows_amount}'"
   ]
  },
  {
   "cell_type": "markdown",
   "metadata": {},
   "source": [
    " ### Sprawdzenie czy nie zostały w ramce loty z 2020"
   ]
  },
  {
   "cell_type": "code",
   "execution_count": null,
   "metadata": {},
   "outputs": [],
   "source": [
    "flight_df_year_test = flight_df.loc[flight_df['year'] == 2020].shape[0]\n",
    "assert flight_df_year_test == 0, 'W ramce `flight_df` nadal znajdują się loty z 2020 roku'"
   ]
  },
  {
   "cell_type": "markdown",
   "metadata": {},
   "source": [
    " ### Sprawdzenie czy nie zostały w ramce loty anulowane"
   ]
  },
  {
   "cell_type": "code",
   "execution_count": null,
   "metadata": {},
   "outputs": [],
   "source": [
    "flight_df_cancelled_test = flight_df.loc[flight_df['cancelled'] != 0].shape[0]\n",
    "assert flight_df_cancelled_test == 0, 'W ramce `flight_df` nadal znajdują się anulowane loty'"
   ]
  },
  {
   "cell_type": "markdown",
   "metadata": {},
   "source": [
    " ### Sprawdzenie czy nazwa kolumny została poprawnie zmieniona"
   ]
  },
  {
   "cell_type": "code",
   "execution_count": null,
   "metadata": {},
   "outputs": [],
   "source": [
    "assert 'dep_delay' in flight_df.columns, 'Kolumna dep_delay nie została znaleziona w ramce flight_df'"
   ]
  },
  {
   "cell_type": "markdown",
   "metadata": {},
   "source": [
    " # Analiza kolumny `dep_delay` cz. 1\n",
    " Wyznacz statystyki opisowe dla zmiennej `dep_delay` i zapisz do zmiennej `dep_delay_statistics_df`.\n",
    " W ramce powinny znaleźć się następujące wiersze:\n",
    " - średnia,\n",
    " - mediana,\n",
    " - odchylenie standardowe,\n",
    " - min, max\n",
    " - percentyle `[0.1, 0.25, 0.5, 0.75, 0.9, 0.95, 0.99]`\n",
    "\n",
    "Wyniki zaokrągl do dwóch miejsc po przecinku.\n",
    "\n",
    "W trakcie rozwiązywania tego zadania możesz posłużyć się następującymi materiałami:\n",
    " - `LMS -> Python-Analiza danych -> Przygotowanie do zjazd 3 -> Podstawy statystyki opisowej`\n",
    " - `describe` - dokumentacja techniczna metody: [klik](https://pandas.pydata.org/docs/reference/api/pandas.DataFrame.describe.html)"
   ]
  },
  {
   "cell_type": "markdown",
   "metadata": {},
   "source": [
    " Tutaj wyznacz statystyki opisowe dla kolumny `dep_delay` oraz zainicjuj ramkę `dep_delay_statistics_df`."
   ]
  },
  {
   "cell_type": "code",
   "execution_count": null,
   "metadata": {},
   "outputs": [],
   "source": [
    "dep_delay_statistics = flight_df['dep_delay'].describe(percentiles = [0.1, 0.25, 0.5, 0.75, 0.9, 0.95, 0.99])"
   ]
  },
  {
   "cell_type": "code",
   "execution_count": null,
   "metadata": {},
   "outputs": [],
   "source": [
    "dep_delay_statistics"
   ]
  },
  {
   "cell_type": "code",
   "execution_count": null,
   "metadata": {
    "tags": []
   },
   "outputs": [],
   "source": [
    "# Konwersja do DataFrame\n",
    "dep_delay_statistics_df = pd.DataFrame(dep_delay_statistics).reset_index()\n",
    "\n",
    "# Zmiana nazw kolumn na bardziej opisowe\n",
    "dep_delay_statistics_df.columns = ['Statistic', 'Value']\n",
    "\n",
    "#Zaokrąglenie do dwóch miejsc po przecinku\n",
    "dep_delay_statistics_df['Value'] = dep_delay_statistics_df['Value'].round(2)"
   ]
  },
  {
   "cell_type": "code",
   "execution_count": null,
   "metadata": {
    "tags": []
   },
   "outputs": [],
   "source": [
    "dep_delay_statistics_df"
   ]
  },
  {
   "cell_type": "markdown",
   "metadata": {},
   "source": [
    " ## Sprawdzenie wyników\n",
    " Uruchom kod poniżej, aby sprawdzić, czy ta część została poprawnie wykonana"
   ]
  },
  {
   "cell_type": "code",
   "execution_count": null,
   "metadata": {},
   "outputs": [],
   "source": [
    "expected = {'count': 1095742.0, 'mean': 14.77, 'std': 46.49, \n",
    "            'min': 0.0, '10%': 0.0, '25%': 0.0, '50%': 0.0, \n",
    "            '75%': 8.0, '90%': 42.0, '95%': 81.0, '99%': 206.0, 'max': 1959.0}\n",
    "dep_delay_statistics_dict = dep_delay_statistics_df.to_dict()\n",
    "\n",
    "assert dep_delay_statistics_dict == expected, f'Błąd. Otrzymano wartości : {dep_delay_statistics_dict}'"
   ]
  },
  {
   "cell_type": "markdown",
   "metadata": {},
   "source": [
    " # Analiza kolumny `dep_delay` cz. 2\n",
    " Przeanalizuj dokładniej kolumnę `dep_delay` wykonując poniższe polecenia:  \n",
    " 1. Wyznacz wykres dla _całej kolumny_ (tzn. tak jak jest).  \n",
    " 2. Wyznacz wykres z pominięciem tych wierszy, dla których `dep_delay=0`.  \n",
    " 3. Obcinając wykres do percentyla 95% oraz pomijając `dep_delay=0`.  \n",
    "\n",
    "Dla wszystkich wykresów użyj histogramu z koszykami co 10 tj. `[0, 10)`, `[10, 20)` i tak dalej.\n",
    "\n",
    "Możesz tutaj użyć swojego ulubionego narzędzia do tworzenia wykresów - `matplotlib` czy `dash`. Pamiętaj o odpowiednim wystylowaniu każdego z wykresów zgodnie z dobrymi praktykami.\n",
    "\n",
    " W trakcie pracy możesz posłużyć się następującymi artykułami:\n",
    " - Dla `Matplotlib`:\n",
    "     - `Python - analiza danych -> Dzień 7 - Wykresy -> Zaawansowane wykresy`\n",
    "     - `hist` - dokumentacja metody: [klik](https://matplotlib.org/stable/api/_as_gen/matplotlib.pyplot.hist.html)\n",
    " - Dla `Plotly`:\n",
    "     - `Wizualizacja danych -> Dzień 2 -> Wprowadznie do plotly`\n",
    "     - `histogram` - dokumentacja metody: [klik](https://plotly.com/python/histograms/)"
   ]
  },
  {
   "cell_type": "markdown",
   "metadata": {},
   "source": [
    " Tutaj stwórz wykres dla całej kolumny `dep_delay`"
   ]
  },
  {
   "cell_type": "code",
   "execution_count": null,
   "metadata": {},
   "outputs": [],
   "source": [
    "fig = px.histogram(\n",
    "    flight_df, \n",
    "    x='dep_delay',\n",
    "    title = 'Histogram for all values in departure delay (dep_delay column) in minutes'\n",
    ")\n",
    "fig.update_layout(\n",
    "    xaxis_title='Departure delay in minutes'\n",
    ")\n",
    "fig.show()"
   ]
  },
  {
   "cell_type": "markdown",
   "metadata": {},
   "source": [
    " Tutaj stwórz wykres dla `dep_delay` używając warunku `dep_delay > 0`"
   ]
  },
  {
   "cell_type": "code",
   "execution_count": null,
   "metadata": {},
   "outputs": [],
   "source": [
    "flight_df_filtered_1 = flight_df[flight_df['dep_delay']>0]\n",
    "fig1 = px.histogram(\n",
    "    flight_df_filtered_1,\n",
    "    x='dep_delay',\n",
    "    title='Histogram of Departure Delay (dep_delay > 0)'\n",
    ")\n",
    "fig1.update_layout(\n",
    "    xaxis_title='Departure delay in minutes'\n",
    ")\n",
    "fig1.show()"
   ]
  },
  {
   "cell_type": "markdown",
   "metadata": {},
   "source": [
    " Tutaj stwórz wykres dla `dep_delay` używając warunków `dep_delay > 0` oraz `dep_delay < percentile 95%`"
   ]
  },
  {
   "cell_type": "code",
   "execution_count": null,
   "metadata": {},
   "outputs": [],
   "source": [
    "percentile_95 = flight_df['dep_delay'].quantile(0.95)\n",
    "flight_df_filtered_2 = flight_df[(flight_df['dep_delay']>0) & (flight_df['dep_delay'] < percentile_95)]\n",
    "fig2 = px.histogram(\n",
    "    flight_df_filtered_2,\n",
    "    x='dep_delay',\n",
    "    title='Histogram of Departure Delay (0 < dep_delay < percentile_95)'\n",
    ")\n",
    "fig2.update_layout(\n",
    "    xaxis_title='Departure delay in minutes'\n",
    ")\n",
    "fig2.show()"
   ]
  },
  {
   "cell_type": "markdown",
   "metadata": {},
   "source": [
    " # Analiza opóźnień\n",
    " Zdefiniuj w ramce `flight_df` nową kolumnę - `is_delayed` jako te opóźnienia, które wynosiły więcej niż `(>)` 15 minut.\n",
    "\n",
    " Zgodnie z powyższą definicją, wyznacz jaki procent wszystkich lotów był opóźniony. Wynik zapisz do zmiennej `delayed_ratio` z dokładnością do dwóch miejsc po przecinku. Postaraj się, aby wartość tej zmiennej nie była zapisana ręcznie."
   ]
  },
  {
   "cell_type": "markdown",
   "metadata": {},
   "source": [
    " Tutaj stwórz nową kolumnę `is_delayed` oraz odpowiednio ją uzupełnij"
   ]
  },
  {
   "cell_type": "code",
   "execution_count": null,
   "metadata": {},
   "outputs": [],
   "source": [
    "flight_df.loc[:, 'is_delayed'] = flight_df['dep_delay'] > 15"
   ]
  },
  {
   "cell_type": "markdown",
   "metadata": {},
   "source": [
    " Tutaj zdefiniuj oraz wyznacz wartość dla zmiennej `delayed_ratio`"
   ]
  },
  {
   "cell_type": "code",
   "execution_count": null,
   "metadata": {},
   "outputs": [],
   "source": [
    "delayed_ratio = (flight_df['is_delayed'].mean().round(2))\n",
    "delayed_ratio"
   ]
  },
  {
   "cell_type": "markdown",
   "metadata": {},
   "source": [
    " ### Sprawdzenie\n",
    " Uruchom kod poniżej, aby sprawdzić, czy ta część została poprawnie wykonana"
   ]
  },
  {
   "cell_type": "code",
   "execution_count": null,
   "metadata": {},
   "outputs": [],
   "source": [
    "delayed_ratio_expected = 0.19\n",
    "assert delayed_ratio == delayed_ratio_expected, f\"Oczekiwanio {delayed_ratio_expected}, otrzymano {delayed_ratio}\""
   ]
  },
  {
   "cell_type": "markdown",
   "metadata": {},
   "source": [
    " # Opóźnienia vs. miesiąc kalendarzowy\n",
    " Zbadaj, jak zmienia się odsetek opóźnień w zależności od **miesiąca kalendarzowego**. Zadanie wykonaj w dwóch krokach:\n",
    " 1. stwórz zmienną `flight_delays_by_month_df` używając metody `groupby`,\n",
    " 1. na podstawie zmiennej `flight_delays_by_month_df`, wygeneruj odpowiedni wykres zgodnie z dobrymi praktykami.\n",
    "\n",
    "W trakcie pracy nad tym zadaniem możesz posłużyć się następującymi materiałami z `LMS`:\n",
    " - `Python - analiza danych -> Dzień 5 - Pandas -> Grupowanie`\n",
    " - `groupby`- dokumentacja metody `Pandas`: [klik](https://pandas.pydata.org/docs/reference/api/pandas.DataFrame.groupby.html)"
   ]
  },
  {
   "cell_type": "markdown",
   "metadata": {},
   "source": [
    " Tutaj pogrupuj dane, a wyniki zapisz do ramki `flight_delays_by_month_df`"
   ]
  },
  {
   "cell_type": "code",
   "execution_count": null,
   "metadata": {},
   "outputs": [],
   "source": [
    "flight_delays_by_month_df = flight_df.groupby('month')['is_delayed'].mean().reset_index().rename(columns={'is_delayed': 'delayed_percentage'})\n",
    "flight_delays_by_month_df['delayed_percentage'] = flight_delays_by_month_df['delayed_percentage'] * 100"
   ]
  },
  {
   "cell_type": "code",
   "execution_count": null,
   "metadata": {
    "tags": []
   },
   "outputs": [],
   "source": [
    "flight_delays_by_month_df"
   ]
  },
  {
   "cell_type": "markdown",
   "metadata": {},
   "source": [
    " Tutaj narysuj wykres, używając danych z ramki `flight_delays_by_month_df`"
   ]
  },
  {
   "cell_type": "code",
   "execution_count": null,
   "metadata": {},
   "outputs": [],
   "source": [
    "fig3 = px.bar(\n",
    "    flight_delays_by_month_df,\n",
    "    x='month',\n",
    "    y='delayed_percentage',\n",
    "    title='Percentage of delayed flights in each month',\n",
    "    labels={'month': 'Month', 'delayed_percentage': 'Percentage of delayed flights (%)'}\n",
    ")\n",
    "fig3.update_layout(\n",
    "    xaxis=dict(\n",
    "        tickmode='array',\n",
    "        tickvals=list(range(1, 13)),\n",
    "    )\n",
    ")\n",
    "fig3.show()"
   ]
  },
  {
   "cell_type": "markdown",
   "metadata": {},
   "source": [
    " # Opóźnienia vs. dzień tygodnia cz. 1\n",
    " Zbadaj, jak zmienia się odsetek opóźnień w zależności od **dnia tygodnia**. Zadanie wykonaj w dwóch krokach:\n",
    " 1. stwórz zmienną `flight_delays_by_weekday_df` używając metody `groupby`,\n",
    " 1. na podstawie zmiennej `flight_delays_by_weekday_df`, wygeneruj odpowiedni wykres zgodnie z dobrymi praktykami."
   ]
  },
  {
   "cell_type": "markdown",
   "metadata": {},
   "source": [
    " Tutaj pogrupuj dane"
   ]
  },
  {
   "cell_type": "code",
   "execution_count": null,
   "metadata": {},
   "outputs": [],
   "source": [
    "flight_delays_by_weekday_df = flight_df.groupby('day_of_week')['is_delayed'].mean().reset_index().rename(columns={'is_delayed': 'delayed_percentage'})\n",
    "flight_delays_by_weekday_df['delayed_percentage'] = flight_delays_by_weekday_df['delayed_percentage'] * 100"
   ]
  },
  {
   "cell_type": "markdown",
   "metadata": {},
   "source": [
    " Tutaj narysuj wykres"
   ]
  },
  {
   "cell_type": "code",
   "execution_count": null,
   "metadata": {},
   "outputs": [],
   "source": [
    "fig4 = px.bar(\n",
    "    flight_delays_by_weekday_df,\n",
    "    x='day_of_week',\n",
    "    y='delayed_percentage',\n",
    "    title='Percentage of delayed flights in each day of the week',\n",
    "    labels={'day_of_week': 'Day', 'delayed_percentage': 'Percentage of delayed flights (%)'}\n",
    ")\n",
    "fig4.update_layout(\n",
    "    xaxis=dict(\n",
    "        tickmode='array',\n",
    "        tickvals=list(range(1, 8)),  \n",
    "    )\n",
    ")\n",
    "fig4.show()"
   ]
  },
  {
   "cell_type": "markdown",
   "metadata": {
    "tags": []
   },
   "source": [
    " # Opóźnienia vs. dzień tygodnia cz. 2\n",
    " Dokonaj agregacji kolumny `day_of_week` do nowej kolumny `is_weekend` w `flight_df`. Jako weekend przyjmij wartości 6, 7.\n",
    " 1. Używając grupowania, wyznacz odsetek opóźnień w zależności od tego, czy lot odbywał się w weekend czy nie. Wyniki zapisz do ramki `flight_delays_by_weekend_df` oraz zaokrąglij do dwóch miejsc po przecinku.\n",
    " 1. Zaprezentuj graficznie wynik analizy.\n",
    " 1. Czy Twoim zdaniem odsetek opóźnień jest zależny od tego, czy lot odbywał się w weekend? Uzasadnij."
   ]
  },
  {
   "cell_type": "markdown",
   "metadata": {},
   "source": [
    " Tutaj dodaj nową kolumnę `is_weekend` do `flight_df`"
   ]
  },
  {
   "cell_type": "code",
   "execution_count": null,
   "metadata": {},
   "outputs": [],
   "source": [
    "flight_df.loc[:, 'is_weekend'] = (flight_df['day_of_week'] == 6) | (flight_df['day_of_week'] == 7)"
   ]
  },
  {
   "cell_type": "markdown",
   "metadata": {},
   "source": [
    " Tutaj dokonaj agregacji danych do ramki `flight_delays_by_weekend_df`"
   ]
  },
  {
   "cell_type": "code",
   "execution_count": null,
   "metadata": {},
   "outputs": [],
   "source": [
    "flight_delays_by_weekend_df = flight_df.groupby('is_weekend')['is_delayed'].mean().reset_index().rename(columns={'is_delayed': 'delayed_percentage'})\n",
    "flight_delays_by_weekend_df['delayed_percentage'] = flight_delays_by_weekend_df['delayed_percentage'].round(2)"
   ]
  },
  {
   "cell_type": "code",
   "execution_count": null,
   "metadata": {
    "tags": []
   },
   "outputs": [],
   "source": [
    "flight_delays_by_weekend_df"
   ]
  },
  {
   "cell_type": "markdown",
   "metadata": {},
   "source": [
    " Tutaj narysuj wykres używając danych z ramki `flight_delays_by_weekend_df`"
   ]
  },
  {
   "cell_type": "code",
   "execution_count": null,
   "metadata": {},
   "outputs": [],
   "source": [
    "fig5 = px.bar(\n",
    "    flight_delays_by_weekend_df,\n",
    "    x='is_weekend',\n",
    "    y='delayed_percentage',\n",
    "    title='Percentage of delayed flights in weekday and weekend',\n",
    "    labels={'day_of_week': 'Day', 'delayed_percentage': 'Proportion of delayed flights'}\n",
    ")\n",
    "fig5.update_layout(\n",
    "    xaxis=dict(\n",
    "        tickvals=[0, 1],  # Wartości na osi X, gdzie 0 odpowiada 'False' a 1 odpowiada 'True'\n",
    "        ticktext=['Weekday', 'Weekend']  # Etykiety, które mają się pojawić na osi X\n",
    "    )\n",
    ")\n",
    "fig5.show()"
   ]
  },
  {
   "cell_type": "markdown",
   "metadata": {
    "tags": []
   },
   "source": [
    "Moim zdaniem odsetek opóźnień nie jest zależny od tego czy lot odbywał się w weekend czy nie. Na powyższych danych widać, że proporcje opóźnień dla weekday oraz dla weekend są bardzo podobne (0.19 vs 0.18).\n",
    "\n",
    "In my opinion, the percentage of delays does not depend on whether the flight was on the weekend or not. You can see from the above data that the proportion of delays for weekday and for weekend are very similar (0.19 vs. 0.18)."
   ]
  },
  {
   "cell_type": "markdown",
   "metadata": {},
   "source": [
    " ### Sprawdzenie\n",
    " Uruchom kod poniżej, aby sprawdzić, czy ta część została poprawnie wykonana"
   ]
  },
  {
   "cell_type": "code",
   "execution_count": null,
   "metadata": {},
   "outputs": [],
   "source": [
    "expected_flight_df_by_weekend = {0: 0.19, 1: 0.18}\n",
    "assert flight_delays_by_weekend_df.to_dict(\n",
    ") == expected_flight_df_by_weekend, f'Spodziewano się wyników: {expected_flight_df_by_weekend}\\n otrzymano  {flight_delays_by_weekend_df}'"
   ]
  },
  {
   "cell_type": "markdown",
   "metadata": {},
   "source": [
    " # Opóźnienia vs. odległość lotu\n",
    " Przeanalizuj kolumnę `distance`, wykonując poniższe polecenia:  \n",
    " 1. Podobnie jak dla zmiennej `dep_delay`, wyznacz statystyki opisowe oraz dodatkowo przedstaw percentyle `[0.1, 0.25, 0.5, 0.75, 0.9, 0.95, 0.99]`. Wynik zapisz do zmiennej `flight_distance_analysis_df` oraz zaokrąglij do dwóch miejsc po przecinku.  \n",
    " 2. Nakreśl wykres punktowy (`scatter`) używając `distance` oraz `dep_delay`. Narysuj wykres dla losowych 10 tysięcy wierszy. Czy na takim wykresie możesz coś zaobserwować?  \n",
    " 3. Usuń z ramki `flight_df`, te wiersze, dla których `distance` jest powyżej 95% percentyla.  \n",
    " 4. Używając ramki `flight_df`, dokonaj agregacji zmiennej `distance` co 100 mil do nowej kolumny `distance_agg` oraz wyznacz odsetek opóźnień w każdym koszyku. Wynik zapisz do ramki o nazwie `flight_delays_by_distance_agg_df`.  \n",
    " 5. Narysuj wykres słupkowy, używając danych zapisanych w `flight_delays_by_distance_agg_df`.  \n",
    " 6. Czy Twoim zdaniem większy dystans oznacza większe prawdopodobieństwo opóźnienia lotu? Uzasadnij.\n",
    "\n",
    " Wskazówka:\n",
    " - Przy generowaniu losowych wierszy przyda sie link do dokumentacji metody `sample`: [klik](https://pandas.pydata.org/docs/reference/api/pandas.DataFrame.sample.html)\n",
    " - Przy generowaniu grup przyda się link do dokumentacji metody `cut`: [klik](https://pandas.pydata.org/docs/reference/api/pandas.cut.html)\n",
    "\n",
    " > Dla dużych zbiorów danych kreślenie wszystkich danych mija się z celem ze względu na czytelność. Mimo że zaprezentujemy pewną część zbioru, zakładamy, że danych na wykresie jest na tyle dużo, że stanowią one reprezentacyjną próbkę populacji."
   ]
  },
  {
   "cell_type": "markdown",
   "metadata": {},
   "source": [
    " Tutaj dokonaj agregacji danych do ramki `flight_distance_analysis_df`"
   ]
  },
  {
   "cell_type": "code",
   "execution_count": null,
   "metadata": {},
   "outputs": [],
   "source": [
    "flight_distance_analysis_statistics = flight_df['distance'].describe(percentiles = [0.1, 0.25, 0.5, 0.75, 0.9, 0.95, 0.99])"
   ]
  },
  {
   "cell_type": "code",
   "execution_count": null,
   "metadata": {
    "tags": []
   },
   "outputs": [],
   "source": [
    "# Konwersja do DataFrame\n",
    "flight_distance_analysis_df = pd.DataFrame(flight_distance_analysis_statistics).reset_index()\n",
    "\n",
    "# Zmiana nazw kolumn na bardziej opisowe\n",
    "flight_distance_analysis_df.columns = ['Statistic', 'Value']\n",
    "\n",
    "#Zaokrąglenie do dwóch miejsc po przecinku\n",
    "flight_distance_analysis_df['Value'] = flight_distance_analysis_df['Value'].round(2)"
   ]
  },
  {
   "cell_type": "code",
   "execution_count": null,
   "metadata": {
    "tags": []
   },
   "outputs": [],
   "source": [
    "flight_distance_analysis_df"
   ]
  },
  {
   "cell_type": "markdown",
   "metadata": {},
   "source": [
    " Tutaj narysuj wykres dla 10 000 losowych wierszy z tabeli `flight_df`"
   ]
  },
  {
   "cell_type": "code",
   "execution_count": null,
   "metadata": {},
   "outputs": [],
   "source": [
    "# Losowe próbkowanie 10 tysięcy wierszy\n",
    "sampled_df = flight_df.sample(n=10000, random_state=42)"
   ]
  },
  {
   "cell_type": "code",
   "execution_count": null,
   "metadata": {
    "tags": []
   },
   "outputs": [],
   "source": [
    "# Tworzenie wykresu punktowego\n",
    "fig6 = px.scatter(\n",
    "    sampled_df,\n",
    "    x='distance',\n",
    "    y='dep_delay',\n",
    "    title='Scatter Plot of Distance vs Departure Delay',\n",
    "    labels={'distance': 'Distance (miles)', 'dep_delay': 'Departure Delay (minutes)'},\n",
    "    opacity=0.5\n",
    ")\n",
    "\n",
    "# Wyświetl wykres\n",
    "fig6.show()"
   ]
  },
  {
   "cell_type": "markdown",
   "metadata": {},
   "source": [
    "Z powyższych danych można wywnioskować że najwięcej opóźnień lotów występuje dla lotów na dystansie między 100 a 1000 mil. Najdłuższe opóźnienia występują przeważnie w dla lotów na dystansie między 500 a 1000 mil.\n",
    "\n",
    "From the above data, it can be concluded that the most flight delays occur for flights between 100 and 1,000 miles. The longest delays mostly occur for flights between 500 and 1,000 miles."
   ]
  },
  {
   "cell_type": "markdown",
   "metadata": {},
   "source": [
    " Tutaj usuń z ramki `flight_df` wiersze, dla których `distance` jest powyżej `95% percentyla` (> 95%)"
   ]
  },
  {
   "cell_type": "code",
   "execution_count": null,
   "metadata": {},
   "outputs": [],
   "source": [
    "percentile_95 = flight_df['distance'].quantile(0.95)\n",
    "flight_df = flight_df[flight_df['distance'] <= percentile_95]"
   ]
  },
  {
   "cell_type": "markdown",
   "metadata": {},
   "source": [
    "### Sprawdzenie"
   ]
  },
  {
   "cell_type": "code",
   "execution_count": null,
   "metadata": {},
   "outputs": [],
   "source": [
    "flight_df_expected_rows_amount = 1057391\n",
    "flight_df_rows_amount = flight_df.shape[0]\n",
    "\n",
    "assert flight_df_rows_amount == flight_df_expected_rows_amount, f'Oczekiwano {flight_df_expected_rows_amount} wierszy, otrzymano {flight_df_rows_amount}'"
   ]
  },
  {
   "cell_type": "markdown",
   "metadata": {},
   "source": [
    " Tutaj dokonaj agregacji zmiennej `distance` oraz wyznacz odsetek opóźnień"
   ]
  },
  {
   "cell_type": "code",
   "execution_count": null,
   "metadata": {},
   "outputs": [],
   "source": [
    "bins = range(0, int(flight_df['distance'].max()) + 100, 100)\n",
    "labels = [f'{i}-{i+100}' for i in bins[:-1]]\n",
    "\n",
    "flight_df.loc[:, 'distance_agg'] = pd.cut(flight_df['distance'], bins=bins, labels=labels, right=False)"
   ]
  },
  {
   "cell_type": "code",
   "execution_count": null,
   "metadata": {
    "tags": []
   },
   "outputs": [],
   "source": [
    "flight_delays_by_distance_agg_df = (\n",
    "    flight_df.groupby('distance_agg')['is_delayed']\n",
    "    .mean()  # Proporcja opóźnionych lotów\n",
    "    .reset_index()\n",
    "    .rename(columns={'is_delayed': 'delayed_percentage'})\n",
    ")"
   ]
  },
  {
   "cell_type": "markdown",
   "metadata": {},
   "source": [
    " Tutaj narysuj wykres słupkowy używając danych zapisanych w `flight_delays_by_distance_agg_df`"
   ]
  },
  {
   "cell_type": "code",
   "execution_count": null,
   "metadata": {},
   "outputs": [],
   "source": [
    "fig7 = px.bar(\n",
    "    flight_delays_by_distance_agg_df,\n",
    "    x='distance_agg',\n",
    "    y='delayed_percentage',\n",
    "    title='Proportion of delayed flights for distance range',\n",
    "    labels={'distance_agg': 'Distance', 'delayed_percentage': 'Proportion of delayed flights'}\n",
    ")\n",
    "fig7.show()"
   ]
  },
  {
   "cell_type": "code",
   "execution_count": null,
   "metadata": {
    "tags": []
   },
   "outputs": [],
   "source": [
    "correlation_distance_delayed = flight_df[['distance', 'is_delayed']].corr().iloc[0, 1]\n",
    "print(f'Korelacja między dystansem a proporcją opóźnionych lotów: {correlation_distance_delayed:.2f}')\n",
    "print(f'Correlation between distance and proportion of delayed flights: {correlation_distance_delayed:.2f}')\n"
   ]
  },
  {
   "cell_type": "markdown",
   "metadata": {},
   "source": [
    "Z powyższych danych wynika że zmienne nie są skorelowane.\n",
    "From data above we can see that variables are not correlated."
   ]
  },
  {
   "cell_type": "markdown",
   "metadata": {},
   "source": [
    " ## Sprawdzenie\n",
    " Uruchom kod poniżej, aby sprawdzić, czy ta część została poprawnie wykonana"
   ]
  },
  {
   "cell_type": "code",
   "execution_count": null,
   "metadata": {},
   "outputs": [],
   "source": [
    "assert 'distance_agg' in flight_df.columns, 'Nie odnaleziono kolumny distance_agg w ramce flight_df'"
   ]
  },
  {
   "cell_type": "markdown",
   "metadata": {},
   "source": [
    " # Opóźnienia vs. grupa odległości\n",
    " Przeanalizuj kolumnę `distance_group` dostępą w zbiorze danych oraz odpowiedz na poniższe:  \n",
    " 1. Dla jakich odcinków zostały wyznaczone poszczególne grupy? Wyznacz maksymalną oraz minimalną `distance` wartość w poszczególnych grupach. Wynik zapisz do ramki `flight_distance_by_distance_group`.  \n",
    " 2. Wyznacz prawdopodobieństwo opóźnienia przy użyciu tych grup. Wynik zapisz do ramki `flight_delays_by_distance_group_df`.  \n",
    " 3. Używając ramki `flight_delays_by_distance_group_df`, wykreśl odpowiedni wykres wizualizujący dane.  \n",
    " 4. Na ile zbieżne są wyniki tej analizy z tą wykonaną w poprzednim punkcie?\n",
    "\n",
    "Wskazówka do punktu pierwszego:\n",
    " - Do agregacji danych przyda się metoda `agg`: `Python - analiza danych -> Dzień 5 - Pandas -> Grupowanie`\n",
    " - Dokumentacja metody `agg`: [klik](https://pandas.pydata.org/pandas-docs/stable/reference/api/pandas.DataFrame.agg.html)"
   ]
  },
  {
   "cell_type": "markdown",
   "metadata": {},
   "source": [
    "Tutaj wyznacz odcinki, dla których zostały wyznaczone poszczególne grupy"
   ]
  },
  {
   "cell_type": "code",
   "execution_count": null,
   "metadata": {},
   "outputs": [],
   "source": [
    "flight_distance_by_distance_group = flight_df.groupby('distance_group')['distance'].agg(['min', 'max']).reset_index()"
   ]
  },
  {
   "cell_type": "code",
   "execution_count": null,
   "metadata": {
    "tags": []
   },
   "outputs": [],
   "source": [
    "flight_distance_by_distance_group"
   ]
  },
  {
   "cell_type": "markdown",
   "metadata": {},
   "source": [
    " Tutaj wyznacz odsetek opóźnień w każdej grupie zapisując wyniki do ramki `flight_delays_by_distance_group_df`"
   ]
  },
  {
   "cell_type": "code",
   "execution_count": null,
   "metadata": {},
   "outputs": [],
   "source": [
    "flight_delays_by_distance_group_df = (\n",
    "    flight_df.groupby('distance_group')['is_delayed']\n",
    "    .mean()  # Proporcja opóźnionych lotów\n",
    "    .reset_index()\n",
    "    .rename(columns={'is_delayed': 'delayed_percentage'})\n",
    ")\n",
    "flight_delays_by_distance_group_df['delayed_percentage'] = (flight_delays_by_distance_group_df['delayed_percentage'] * 100).round(2)"
   ]
  },
  {
   "cell_type": "code",
   "execution_count": null,
   "metadata": {
    "tags": []
   },
   "outputs": [],
   "source": [
    "flight_delays_by_distance_group_df"
   ]
  },
  {
   "cell_type": "markdown",
   "metadata": {},
   "source": [
    " Tutaj narysuj wykres przy użyciu ramki `flight_delays_by_distance_group_df`"
   ]
  },
  {
   "cell_type": "code",
   "execution_count": null,
   "metadata": {},
   "outputs": [],
   "source": [
    "# Tworzenie wykresu punktowego\n",
    "fig8 = px.scatter(\n",
    "    flight_delays_by_distance_group_df,\n",
    "    x='distance_group',\n",
    "    y='delayed_percentage',\n",
    "    title='Scatter Plot of Distance group vs Departure Delay percentage',\n",
    "    labels={'distance': 'Distance (miles)', 'delayed_percentage': 'Delayed departures (%)'},\n",
    "    opacity=0.5\n",
    ")\n",
    "fig8.update_layout(\n",
    "    xaxis=dict(\n",
    "        title='Distance Group',\n",
    "        tickmode='array',\n",
    "        tickvals=flight_delays_by_distance_group_df['distance_group'],\n",
    "        ticktext=flight_delays_by_distance_group_df['distance_group']\n",
    "    )\n",
    ")\n",
    "# Wyświetl wykres\n",
    "fig8.show()"
   ]
  },
  {
   "cell_type": "markdown",
   "metadata": {},
   "source": [
    " ## Czy większy dystans oznacza większe prawdopodobieństwo opóźnenia lotu?\n",
    " Miejsce na Twój komentarz - czy wykresy można porównać? Czy dają takie same wnioski?"
   ]
  },
  {
   "cell_type": "markdown",
   "metadata": {},
   "source": [
    "> Miejsce na Twój komentarz\n",
    "\n",
    "Uważam, że większy dystans nie oznacza jednoznacznie większe prawdopodobieństwo opóźnienia lotu. Zależność ta jest słabo skorelowana."
   ]
  },
  {
   "cell_type": "markdown",
   "metadata": {},
   "source": [
    " # Podsumowanie\n",
    " W tym notatniku dość dokładnie przeanalizowaliśmy ramkę `fligh_delays` bez wzbogacania jej o dodatkowe dane z innych źródeł, takich jak dane pogodowe.\n",
    "\n",
    " Zanim przejdziemy dalej, należy zapisać bieżącą postać ramki (najlepiej lokalnie), która zostanie użyta w kolejnym notatniku.\n",
    "\n",
    " > **Wskazówka:**  \n",
    " > Aby uniknąć potencjalnych problemów, najlepiej zapisać ramkę w sposób nawiązujący do tego notatnika, np. `flight_df_01`."
   ]
  },
  {
   "cell_type": "markdown",
   "metadata": {},
   "source": [
    " Tutaj zapisz ramkę w najdogodniejszy sposób."
   ]
  },
  {
   "cell_type": "code",
   "execution_count": null,
   "metadata": {
    "tags": []
   },
   "outputs": [],
   "source": [
    "flight_df.to_csv(r'..\\data\\processed\\flight_df_01.csv', index=False)"
   ]
  }
 ],
 "metadata": {
  "kernelspec": {
   "display_name": "Python 3 (ipykernel)",
   "language": "python",
   "name": "python3"
  },
  "language_info": {
   "codemirror_mode": {
    "name": "ipython",
    "version": 3
   },
   "file_extension": ".py",
   "mimetype": "text/x-python",
   "name": "python",
   "nbconvert_exporter": "python",
   "pygments_lexer": "ipython3",
   "version": "3.11.5"
  },
  "vscode": {
   "interpreter": {
    "hash": "38d75d0df746d7f75dd34c5d1915af59cb55786647bd68b8d9064425d7680b12"
   }
  }
 },
 "nbformat": 4,
 "nbformat_minor": 4
}
