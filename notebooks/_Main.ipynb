{
 "cells": [
  {
   "cell_type": "code",
   "execution_count": null,
   "id": "131bfff2-7b84-4467-91b5-3f6456b1650d",
   "metadata": {
    "tags": []
   },
   "outputs": [],
   "source": [
    "%run \"01_Pobieranie_danych.ipynb\"\n",
    "%run \"02_Inicjowanie_bazy_danych.ipynb\"\n",
    "%run \"03_Populacja_bazy_danych.ipynb\"\n",
    "%run \"04_Analiza_danych_01.ipynb\"\n",
    "%run \"04_Analiza_danych_02.ipynb\"\n",
    "%run \"04_Analiza_danych_03.ipynb\"\n",
    "%run \"05_Budowa_schematu_reporting.ipynb\"\n",
    "%run \"06_Dashboard.ipynb\""
   ]
  }
 ],
 "metadata": {
  "kernelspec": {
   "display_name": "Python 3 (ipykernel)",
   "language": "python",
   "name": "python3"
  },
  "language_info": {
   "codemirror_mode": {
    "name": "ipython",
    "version": 3
   },
   "file_extension": ".py",
   "mimetype": "text/x-python",
   "name": "python",
   "nbconvert_exporter": "python",
   "pygments_lexer": "ipython3",
   "version": "3.11.5"
  }
 },
 "nbformat": 4,
 "nbformat_minor": 5
}
