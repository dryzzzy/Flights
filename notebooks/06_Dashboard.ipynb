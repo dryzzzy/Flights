{
 "cells": [
  {
   "cell_type": "markdown",
   "metadata": {},
   "source": [
    " # Opis zadania\n",
    " W tym notatniku stworzymy system analityczno-raportowy, mający wspomagać przyszłe decyzje biznesowe. Dzięki przeprowadzonej wcześniej analizie eksploracyjnej danych, w trakcie spotkania prezentującego wykonaną pracę postanowiono w pierwszym kroku stworzyć następujące wizualizacje danych:\n",
    " - Wyświetlenie TOP 10 tras samolotów pod względem najniższego odsetka opóźnień w formie tabeli,\n",
    " - Wyświetlenie porównania roku 2019 oraz 2020 w formie wykresu słupkowego:\n",
    "     - miesiąc do miesiąca,\n",
    "     - dzień tygodnia do dnia tygodnia,\n",
    " - Wyświetlenie danych dzień po dniu w formie szeregu czasowego.\n",
    "\n",
    "Raport powinien składać się z trzech stron - `TOP report`, `Comparision` i `Day by day reliability`.\n",
    "\n",
    "Pracując na podstawie wcześniej zdefiniowanych widoków, nie musimy się tutaj martwić o przetwarzanie oraz procesowanie danych. Co więcej, wszystkie niuanse techniczne w postaci liczby wierszy, wykonywanych złączeń, filtracji są przeniesione na bazę danych. Z technicznego punktu widzenia, pomiędzy serwisem a bazą danych dochodzi do przesyłania mniejszej ilości danych.\n",
    "\n",
    "Dopuszczamy jednak pewne aktualizacje co do ich struktury przykładowo poprzez _pivotowanie_, czyli obranie i doprowadzanie do postaci tej znanej z tabel przestawnych.\n",
    "\n",
    "> **Uwaga:**  \n",
    "> Przy pracy nad poprawkami w dashboardzie, pamiętaj, że aby odświeżyć stronę po wprowadzonych zmianach, należy **całość** uruchomić ponownie.\n",
    "\n",
    "W tej części projektu końcowego wcielasz się ponownie w rolę BI Developera, który ma za zadanie stworzyć dashboard zgodny z wytycznymi biznesowymi dostarczonymi przez klienta. Pamiętaj, że osoba na tym stanowisku często ma kontakt z biznesem więc musi umieć przekazać informację o danych, które zawarła na dashboardzie by te zaangażowały odbiorców.\n"
   ]
  },
  {
   "cell_type": "markdown",
   "metadata": {},
   "source": [
    " Tutaj zaimportuj potrzebne biblioteki"
   ]
  },
  {
   "cell_type": "code",
   "execution_count": null,
   "metadata": {
    "tags": []
   },
   "outputs": [],
   "source": [
    "import psycopg2\n",
    "from psycopg2 import connect\n",
    "from sqlalchemy import create_engine, text\n",
    "from sqlalchemy.engine import URL\n",
    "import pandas as pd\n",
    "import matplotlib.pyplot as plt\n",
    "import plotly.graph_objects as go\n",
    "import plotly.express as px\n",
    "import dash\n",
    "from dash import html\n",
    "from dash import dcc\n",
    "from dash import dash_table\n",
    "from dash.dependencies import Input, Output"
   ]
  },
  {
   "cell_type": "markdown",
   "metadata": {},
   "source": [
    " ## Konfiguracja połączenia\n",
    " Tutaj uzupełnij konfigurację połączenia"
   ]
  },
  {
   "cell_type": "code",
   "execution_count": null,
   "metadata": {
    "tags": []
   },
   "outputs": [],
   "source": [
    "username = 'postgres'\n",
    "password = 'postgres'\n",
    "\n",
    "host = 'localhost'\n",
    "database = 'airlines'\n",
    "port = 5432\n",
    "\n",
    "url = f'postgresql://{username}:{password}@{host}:{port}/{database}'\n",
    "engine = create_engine(url)"
   ]
  },
  {
   "cell_type": "markdown",
   "metadata": {},
   "source": [
    " Tutaj zdefiniuj zmienną `con` oraz `cursor`"
   ]
  },
  {
   "cell_type": "code",
   "execution_count": null,
   "metadata": {
    "tags": []
   },
   "outputs": [],
   "source": [
    "con=psycopg2.connect(\n",
    "    database=database,\n",
    "    user=username,\n",
    "    password=password,\n",
    "    host=host,\n",
    "    \n",
    ")\n",
    "cursor = con.cursor()\n",
    "print(\"Połączenie udane.\")"
   ]
  },
  {
   "cell_type": "markdown",
   "metadata": {},
   "source": [
    " # Stworzenie tabeli dla `TOP 10 routes`\n",
    " W tym miejscu przygotujemy tabelkę oraz komponent, który zostanie następnie umieszczony w raporcie. Tabela powinna się składać z następujących kolumn:\n",
    " - Origin,\n",
    " - Destination,\n",
    " - Year,\n",
    " - Reliability,\n",
    " - Rank.\n",
    "\n",
    "Wartości procentowe zaś powinny być postaci np. 13.87%.\n",
    "\n",
    "Z tego względu konieczna będzie zmiana nazw kolumn dla wyników raportowania.\n",
    "\n",
    "Wskazówki:\n",
    " - `Python - analiza danych > Dzień 5 - Pandas > Obróbka danych - część 2 > apply`,\n",
    " - [How to format percentage in python](https://stackoverflow.com/questions/5306756/how-to-print-a-percentage-value-in-python)."
   ]
  },
  {
   "cell_type": "markdown",
   "metadata": {},
   "source": [
    " Tutaj zaczytaj dane do ramki danych `top_routes_df` z widoku `reporting.top_reliability_roads`\n",
    " > Jeśli pojawi się komunikat `UserWarning: pandas only support SQLAlchemy`, z naszego punktu widzenia, możemy go śmiało zignorować."
   ]
  },
  {
   "cell_type": "code",
   "execution_count": null,
   "metadata": {
    "tags": []
   },
   "outputs": [],
   "source": [
    "query = \"SELECT * FROM reporting.top_reliability_roads\"\n",
    "top_routes_df = pd.read_sql_query(query, engine)"
   ]
  },
  {
   "cell_type": "code",
   "execution_count": null,
   "metadata": {
    "tags": []
   },
   "outputs": [],
   "source": [
    "top_routes_df"
   ]
  },
  {
   "cell_type": "markdown",
   "metadata": {},
   "source": [
    " Tutaj dokonaj aktualizacji formatu liczbowego dla kolumny `reliability`"
   ]
  },
  {
   "cell_type": "code",
   "execution_count": null,
   "metadata": {
    "tags": []
   },
   "outputs": [],
   "source": [
    "top_routes_df['reliability'] = top_routes_df['reliability'].apply(lambda x: f\"{(x * 100):.2f}%\")"
   ]
  },
  {
   "cell_type": "code",
   "execution_count": null,
   "metadata": {
    "tags": []
   },
   "outputs": [],
   "source": [
    "top_routes_df"
   ]
  },
  {
   "cell_type": "markdown",
   "metadata": {},
   "source": [
    " Tutaj odpowiednio dokonaj zmian nazewnictwa kolumn"
   ]
  },
  {
   "cell_type": "code",
   "execution_count": null,
   "metadata": {
    "tags": []
   },
   "outputs": [],
   "source": [
    "top_routes_df.rename(columns={\n",
    "    'origin_airport_name': 'Origin',\n",
    "    'dest_airport_name': 'Destination',\n",
    "    'year': 'Year',\n",
    "    'reliability': 'Reliability',\n",
    "    'nb': 'Rank'\n",
    "},inplace=True)"
   ]
  },
  {
   "cell_type": "code",
   "execution_count": null,
   "metadata": {
    "tags": []
   },
   "outputs": [],
   "source": [
    "top_routes_df"
   ]
  },
  {
   "cell_type": "markdown",
   "metadata": {},
   "source": [
    " # Porównanie rok do roku (YoY) 2019 vs. 2020\n",
    " W tym miejscu stworzymy wykres oraz komponent, który zostanie następnie umieszczony w raporcie. Wykres powinien przedstawiać porównanie lat 2019 oraz 2020 po miesiącach względem zmiennej `reliability`.\n",
    "\n",
    " > Na wykresie chcemy również przedstawić dane, które nie mają porównania tj. od kwietnia do grudnia 2019.\n",
    "\n",
    "W tym celu wykonamy poniższe zadania:\n",
    " - Przekształcimy tabelkę do formy tabeli przestawnej\n",
    " - Stworzymy wykres słupkowy porównujący dane rok do roku\n",
    " - Opakujemy stworzony wykres w komponent `Dash`\n",
    "\n",
    "Wskazówki:\n",
    " - `Wizualizacja danych > Dzień 3 > Dash`,\n",
    " - `Wizualizacja danych > Dzień 1 > Budowanie wykresów plotly`,\n",
    " - `Python - analiza danych > Dzień 6 - Pandas c.d > Pivot`."
   ]
  },
  {
   "cell_type": "markdown",
   "metadata": {},
   "source": [
    " Tutaj pobierz z widoku `reporting.year_to_year_comparision` dane do ramki `yoy_comparision_df`"
   ]
  },
  {
   "cell_type": "code",
   "execution_count": null,
   "metadata": {
    "tags": []
   },
   "outputs": [],
   "source": [
    "query = \"SELECT * FROM reporting.year_to_year_comparision\"\n",
    "yoy_comparision_df = pd.read_sql_query(query, engine)"
   ]
  },
  {
   "cell_type": "code",
   "execution_count": null,
   "metadata": {
    "tags": []
   },
   "outputs": [],
   "source": [
    "yoy_comparision_df"
   ]
  },
  {
   "cell_type": "markdown",
   "metadata": {},
   "source": [
    " Tutaj odpowiednio przekształć ramkę, do formy oczekiwanej przez wykres słupkowy. Wyniki zapisz do zmiennej `yoy_comparision_to_plot_df`"
   ]
  },
  {
   "cell_type": "code",
   "execution_count": null,
   "metadata": {
    "tags": []
   },
   "outputs": [],
   "source": [
    "yoy_comparision_to_plot_df = pd.pivot_table(yoy_comparision_df, values='reliability', index='month', columns='year', aggfunc='mean')"
   ]
  },
  {
   "cell_type": "code",
   "execution_count": null,
   "metadata": {
    "tags": []
   },
   "outputs": [],
   "source": [
    "yoy_comparision_to_plot_df"
   ]
  },
  {
   "cell_type": "markdown",
   "metadata": {},
   "source": [
    " Tutaj stwórz odpowiedni wykres, zapisz do na później pod nazwą `yoy_comparision_fig`. Pamiętaj o dobrych praktykach - niech wykres posiada wszystkie opisy oraz opisowe etykiety osi."
   ]
  },
  {
   "cell_type": "code",
   "execution_count": null,
   "metadata": {
    "tags": []
   },
   "outputs": [],
   "source": [
    "yoy_comparision_fig = go.Figure()\n",
    "\n",
    "yoy_comparision_fig.add_trace(go.Bar(\n",
    "    x=yoy_comparision_to_plot_df.index,\n",
    "    y=yoy_comparision_to_plot_df[2019] * 100,\n",
    "    name='2019 reliability',\n",
    "    marker_color='blue',\n",
    "    text=yoy_comparision_to_plot_df[2019].apply(lambda x: f\"{(x * 100):.2f}%\"),\n",
    "    textposition='auto'\n",
    "))\n",
    "\n",
    "yoy_comparision_fig.add_trace(go.Bar(\n",
    "    x=yoy_comparision_to_plot_df.index,\n",
    "    y=yoy_comparision_to_plot_df[2020] * 100,\n",
    "    name='2020 reliability',\n",
    "    marker_color='red',\n",
    "    text=yoy_comparision_to_plot_df[2020].apply(lambda x: f\"{(x * 100):.2f}%\"),\n",
    "    textposition='auto'\n",
    "))\n",
    "\n",
    "yoy_comparision_fig.update_layout(\n",
    "    title='Comparison of Reliability each month for 2019 and 2020',\n",
    "    xaxis_title='Month',\n",
    "    yaxis_title='Reliability (%)',\n",
    "    barmode='group',\n",
    "    xaxis=dict(\n",
    "        tickvals=list(range(1, 13))\n",
    "    )\n",
    ")"
   ]
  },
  {
   "cell_type": "markdown",
   "metadata": {},
   "source": [
    " # Porównanie dzień tygodnia do dnia tygodnia (WKoWK) 2019 vs. 2020\n",
    " Wykonaj analogiczne do poprzedniego kroku, używając jednak w tym momencie danych z widoku `reporting.day_to_day_comparision`"
   ]
  },
  {
   "cell_type": "markdown",
   "metadata": {},
   "source": [
    " Tutaj pobierz z widoku `reporting.day_to_day_comparision` dane do ramki `day_to_day_comparision_df`"
   ]
  },
  {
   "cell_type": "code",
   "execution_count": null,
   "metadata": {
    "tags": []
   },
   "outputs": [],
   "source": [
    "query = \"SELECT * FROM reporting.day_to_day_comparision\"\n",
    "day_to_day_comparision_df = pd.read_sql_query(query, engine)"
   ]
  },
  {
   "cell_type": "code",
   "execution_count": null,
   "metadata": {
    "tags": []
   },
   "outputs": [],
   "source": [
    "day_to_day_comparision_df"
   ]
  },
  {
   "cell_type": "markdown",
   "metadata": {},
   "source": [
    " Tutaj odpowiednio przekształć ramkę, do formy oczekiwanej przez wykres słupkowy. Wyniki zapisz do zmiennej `day_to_day_comparision_to_plot_df`"
   ]
  },
  {
   "cell_type": "code",
   "execution_count": null,
   "metadata": {
    "tags": []
   },
   "outputs": [],
   "source": [
    "day_to_day_comparision_to_plot_df = pd.pivot_table(day_to_day_comparision_df, values='reliability', index='day_of_week', columns='year', aggfunc='mean')"
   ]
  },
  {
   "cell_type": "code",
   "execution_count": null,
   "metadata": {
    "tags": []
   },
   "outputs": [],
   "source": [
    "day_to_day_comparision_to_plot_df"
   ]
  },
  {
   "cell_type": "markdown",
   "metadata": {},
   "source": [
    " Tutaj stwórz odpowiedni wykres, zapisz do na później pod nazwą `day_to_day_comparision_fig`. Pamiętaj o dobrych praktykach - niech wykres posiada wszystkie opisy oraz opisowe etykiety osi."
   ]
  },
  {
   "cell_type": "code",
   "execution_count": null,
   "metadata": {
    "tags": []
   },
   "outputs": [],
   "source": [
    "day_to_day_comparision_fig = go.Figure()\n",
    "\n",
    "day_to_day_comparision_fig.add_trace(go.Bar(\n",
    "    x=day_to_day_comparision_to_plot_df.index,\n",
    "    y=day_to_day_comparision_to_plot_df[2019] * 100,\n",
    "    name='2019 reliability',\n",
    "    marker_color='blue',\n",
    "    text=day_to_day_comparision_to_plot_df[2019].apply(lambda x: f\"{(x * 100):.2f}%\"),\n",
    "    textposition='auto'\n",
    "))\n",
    "\n",
    "day_to_day_comparision_fig.add_trace(go.Bar(\n",
    "    x=day_to_day_comparision_to_plot_df.index,\n",
    "    y=day_to_day_comparision_to_plot_df[2020] * 100,\n",
    "    name='2020 reliability',\n",
    "    marker_color='red',\n",
    "    text=day_to_day_comparision_to_plot_df[2020].apply(lambda x: f\"{(x * 100):.2f}%\"),\n",
    "    textposition='auto'\n",
    "))\n",
    "\n",
    "day_to_day_comparision_fig.update_layout(\n",
    "    title='Comparison of Reliability each day of week for 2019 and 2020',\n",
    "    xaxis_title='Day of week',\n",
    "    yaxis_title='Reliability (%)',\n",
    "    barmode='group'\n",
    ")"
   ]
  },
  {
   "cell_type": "markdown",
   "metadata": {},
   "source": [
    " # Stworzenie szeregu czasowego\n",
    " W tym miejscu stworzymy wykres w formie szeregu czasowego, który zostanie umieszcony w raporcie. Wykres powinien przedstawiać dane w formie szeregu czasowego (dzień po dniu) dla lat 2019 oraz 2020. Dla możliwości identyfikacji poszczególnych lat, zostaliśmy dodatkowo poproszeni o nadanie innego koloru dla roku 2019 oraz 2020.\n",
    "\n",
    " > Pamiętaj o stworzeniu wykresu zgodnie z dobrymi praktykami."
   ]
  },
  {
   "cell_type": "markdown",
   "metadata": {},
   "source": [
    " W tym miejscu pobierz dane do ramki `day_by_day_reliability_df`, z widoku `reporting.day_by_day_reliability`."
   ]
  },
  {
   "cell_type": "code",
   "execution_count": null,
   "metadata": {
    "tags": []
   },
   "outputs": [],
   "source": [
    "query = \"SELECT * FROM reporting.day_by_day_reliability\"\n",
    "day_by_day_reliability_df = pd.read_sql_query(query, engine)"
   ]
  },
  {
   "cell_type": "code",
   "execution_count": null,
   "metadata": {
    "tags": []
   },
   "outputs": [],
   "source": [
    "day_by_day_reliability_df.info()"
   ]
  },
  {
   "cell_type": "markdown",
   "metadata": {},
   "source": [
    " Tutaj stwórz wykres liniowy na podstawie pobranych danych. Wynik zapisz do zmiennej `day_by_day_reliability_fig`."
   ]
  },
  {
   "cell_type": "code",
   "execution_count": null,
   "metadata": {
    "tags": []
   },
   "outputs": [],
   "source": [
    "day_by_day_reliability_df['date'] = pd.to_datetime(day_by_day_reliability_df['date'], errors='coerce')\n",
    "day_by_day_reliability_df = day_by_day_reliability_df.dropna(subset=['date'])\n",
    "\n",
    "# Dodanie kolumny 'Year' oraz 'Month-Day' (miesiąc-dzień)\n",
    "day_by_day_reliability_df['Year'] = day_by_day_reliability_df['date'].dt.year\n",
    "day_by_day_reliability_df['Month-Day'] = day_by_day_reliability_df['date'].dt.strftime('%m-%d')\n",
    "\n",
    "# Podział danych na rok 2019 i 2020\n",
    "data_2019 = day_by_day_reliability_df[day_by_day_reliability_df['Year'] == 2019].copy()\n",
    "data_2020 = day_by_day_reliability_df[day_by_day_reliability_df['Year'] == 2020].copy()\n",
    "\n"
   ]
  },
  {
   "cell_type": "code",
   "execution_count": null,
   "metadata": {
    "tags": []
   },
   "outputs": [],
   "source": [
    "# Tworzenie wykresu szeregu czasowego\n",
    "day_by_day_reliability_fig = go.Figure()\n",
    "\n",
    "# Dodawanie danych dla 2019\n",
    "day_by_day_reliability_fig.add_trace(go.Scatter(\n",
    "    x=data_2019['Month-Day'],\n",
    "    y=data_2019['reliability'] * 100,  # Przekształcenie na procenty\n",
    "    mode='lines',\n",
    "    name='2019 reliability',\n",
    "    line=dict(color='blue'),\n",
    "    hovertemplate='<b>%{x}</b><br>Reliability: %{y:.2f} %<extra></extra>'\n",
    "))\n",
    "\n",
    "# Dodawanie danych dla 2020\n",
    "day_by_day_reliability_fig.add_trace(go.Scatter(\n",
    "    x=data_2020['Month-Day'],\n",
    "    y=data_2020['reliability'] * 100,  # Przekształcenie na procenty\n",
    "    mode='lines',\n",
    "    name='2020 reliability',\n",
    "    line=dict(color='red'),\n",
    "    hovertemplate='<b>%{x}</b><br>Reliability: %{y:.2f} %<extra></extra>'\n",
    "))\n",
    "\n",
    "# Konfiguracja wykresu\n",
    "day_by_day_reliability_fig.update_layout(\n",
    "    title='Daily Reliability Comparison for 2019 and 2020',\n",
    "    xaxis_title='Day of the Year',\n",
    "    yaxis_title='Reliability (%)',\n",
    "    legend_title='Legend',\n",
    "    xaxis_rangeslider_visible=False,\n",
    "    xaxis=dict(\n",
    "        showticklabels=False,\n",
    "        tickmode='array',\n",
    "        tickvals=data_2019['Month-Day'],  # Wyświetlanie wszystkich dni na osi x\n",
    "        ticktext=data_2019['Month-Day']\n",
    "    )\n",
    ")\n",
    "\n",
    "day_by_day_reliability_fig.show()"
   ]
  },
  {
   "cell_type": "markdown",
   "metadata": {},
   "source": [
    " # Stworzenie layoutów poszczególnych stron"
   ]
  },
  {
   "cell_type": "markdown",
   "metadata": {},
   "source": [
    " ## Stworzenie layout dla widoku `TOP 10 routes`\n",
    " W tym momencie przekonwertujemy zmienną `top_routes_df` w postać `Dash.DataTable`. Dodatkowo, dla czytelności, dodamy nagłówek opisujący co tabela przedstawia.\n",
    "\n",
    " Nagłówek wystylizuj używając poniższych wymagań:\n",
    " - tag: `H3`,\n",
    " - czcionka: `verdana`,\n",
    " - kolor: '#4444`,\n",
    " - tekst do wyświetlenia: `TOP 10 reliability routes in 2019 and 2020`\n",
    "\n",
    "Wskazówki:\n",
    " - `Wizualizacja danych > Dzień 3 > Dash`,\n",
    " - `Wizualizacja danych > Dzień 3 > Dash - datatable`,\n",
    " - Dokmentacja metody `Pandas` - [to_dict](https://pandas.pydata.org/docs/reference/api/pandas.DataFrame.to_dict.html)."
   ]
  },
  {
   "cell_type": "markdown",
   "metadata": {},
   "source": [
    " Tutaj przygotuj komponent `Dash` `DataTable`, zapisując wynik do zmiennej `top_routes_table`"
   ]
  },
  {
   "cell_type": "code",
   "execution_count": null,
   "metadata": {
    "tags": []
   },
   "outputs": [],
   "source": [
    "top_routes_table = dash_table.DataTable(\n",
    "    id='top-routes-table',\n",
    "    columns=[{\"name\": i, \"id\": i} for i in top_routes_df.columns],\n",
    "    data=top_routes_df.to_dict('records'),\n",
    "    style_table={\n",
    "        'overflowX': 'auto'\n",
    "    },\n",
    "    style_header={\n",
    "        'backgroundColor': '#f9f9f9',\n",
    "        'fontWeight': 'bold'\n",
    "    },\n",
    "    style_cell={\n",
    "        'textAlign': 'left',\n",
    "        'padding': '5px'\n",
    "    }\n",
    ")"
   ]
  },
  {
   "cell_type": "markdown",
   "metadata": {},
   "source": [
    " Tutaj przygotuj nagłówek dla tabeli, zapisz go pod nazwą `top_routes_page_title`"
   ]
  },
  {
   "cell_type": "code",
   "execution_count": null,
   "metadata": {
    "tags": []
   },
   "outputs": [],
   "source": [
    "top_routes_page_title = html.H3(\n",
    "    \"TOP 10 reliability routes in 2019 and 2020\",\n",
    "    style={\n",
    "        'fontFamily': 'Verdana',\n",
    "        'color': '#4444',\n",
    "        'textAlign': 'center',\n",
    "        'marginBottom': '20px'\n",
    "    }\n",
    ")"
   ]
  },
  {
   "cell_type": "markdown",
   "metadata": {},
   "source": [
    " Tutaj przygotuj layout dla widoku `TOP 10 routes`. Konfigurację zapisz do zmiennej `top_routes_layout`"
   ]
  },
  {
   "cell_type": "code",
   "execution_count": null,
   "metadata": {
    "tags": []
   },
   "outputs": [],
   "source": [
    "top_routes_layout = html.Div([\n",
    "    # Nagłówek\n",
    "    top_routes_page_title,\n",
    "    \n",
    "    # Tabela danych\n",
    "    top_routes_table\n",
    "], style={\n",
    "    'padding': '20px',  # Padding around the content\n",
    "    'backgroundColor': '#f8f9fa'  # Background color of the layout\n",
    "})"
   ]
  },
  {
   "cell_type": "markdown",
   "metadata": {},
   "source": [
    " ## Stworzenie layout dla widoku `Comparision`\n",
    " W tym momencie opakujemy zmienne `yoy_comparision_fig` oraz `day_to_day_comparision_fig` do komponentów `Dash`, a następnie stworzymy odpowiedni `layout` dla strony `comparision`. Wyniki zapiszemy do zmiennej `comparision_layout`."
   ]
  },
  {
   "cell_type": "markdown",
   "metadata": {},
   "source": [
    " Tutaj opakuj `yoy_comparision_fig` w odpowiedni komponent `Dash`. Wynik zapisz do zmiennej `yoy_comparision_component`."
   ]
  },
  {
   "cell_type": "code",
   "execution_count": null,
   "metadata": {
    "tags": []
   },
   "outputs": [],
   "source": [
    "yoy_comparision_component = dcc.Graph(\n",
    "    id='yoy-comparison-graph',  # Unikalny identyfikator dla komponentu\n",
    "    figure=yoy_comparision_fig  # Wykres, który ma być wyświetlany\n",
    ")"
   ]
  },
  {
   "cell_type": "markdown",
   "metadata": {},
   "source": [
    " Tutaj opakuj `day_to_day_comparision_fig` w odpowiedni komponent `Dash`. Wynik zapisz do zmiennej `day_to_day_comparision_component`."
   ]
  },
  {
   "cell_type": "code",
   "execution_count": null,
   "metadata": {
    "tags": []
   },
   "outputs": [],
   "source": [
    "# Opakowanie wykresu day_to_day_comparision_fig w komponent Dash\n",
    "day_to_day_comparision_component = dcc.Graph(\n",
    "    id='day-to-day-comparison-graph',  # Unikalny identyfikator dla komponentu\n",
    "    figure=day_to_day_comparision_fig  # Wykres, który ma być wyświetlany\n",
    ")"
   ]
  },
  {
   "cell_type": "markdown",
   "metadata": {},
   "source": [
    " Tutaj stwórz odpowiedni `layout` dla widoku `comparision`. Wynik zapisz do zmiennej `comparision_layout`."
   ]
  },
  {
   "cell_type": "code",
   "execution_count": null,
   "metadata": {
    "tags": []
   },
   "outputs": [],
   "source": [
    "comparision_layout = html.Div([\n",
    "    # Dodajemy oba wykresy do layoutu\n",
    "    html.Div([\n",
    "        html.H3('Year-over-Year Reliability Comparison', style={'font-family': 'Verdana', 'color': '#4444'}),\n",
    "        yoy_comparision_component\n",
    "    ], style={'margin-bottom': '30px'}),\n",
    "    \n",
    "    html.Div([\n",
    "        html.H3('Day-by-Day Reliability Comparison', style={'font-family': 'Verdana', 'color': '#4444'}),\n",
    "        day_to_day_comparision_component\n",
    "    ])\n",
    "], style={\n",
    "    'padding': '20px',  # Padding around the content\n",
    "    'backgroundColor': '#f8f9fa'  # Background color of the layout\n",
    "})"
   ]
  },
  {
   "cell_type": "markdown",
   "metadata": {},
   "source": [
    " Tutaj stwórz odpowiedni `layout` dla widoku `day by day`. Wynik zapisz do zmiennej `day_by_day_layout`."
   ]
  },
  {
   "cell_type": "code",
   "execution_count": null,
   "metadata": {
    "tags": []
   },
   "outputs": [],
   "source": [
    "# Opakowanie wykresu day_by_day_reliability_fig w komponent Dash\n",
    "day_by_day_reliability_component = dcc.Graph(\n",
    "    id='day-by-day-reliability-graph',  # Unikalny identyfikator dla komponentu\n",
    "    figure=day_by_day_reliability_fig  # Wykres, który ma być wyświetlany\n",
    ")\n",
    "\n",
    "# Stworzenie layoutu dla widoku day_by_day\n",
    "day_by_day_layout = html.Div([\n",
    "    html.H3('Day-by-Day Reliability for 2019 and 2020', style={'font-family': 'Verdana', 'color': '#4444'}),\n",
    "    day_by_day_reliability_component\n",
    "], style={\n",
    "    'padding': '20px',  # Padding around the content\n",
    "    'backgroundColor': '#f8f9fa'  # Background color of the layout\n",
    "})"
   ]
  },
  {
   "cell_type": "markdown",
   "metadata": {},
   "source": [
    " # Konfigurowanie aplikacji\n",
    " Posiadamy już wszystkie niezbędne komponenty do stworzenia oraz uruchomienia aplikacji. Naszym zadaniem w tym miejscu będzie odpowiednie jej skonfigurowanie, aby obsługiwała więcej niż jedną stronę.\n",
    "\n",
    " Chcemy, aby możliwe było poruszanie się pomiędzy poniższymi stronami:\n",
    " - `TOP report` - strona domyślna,\n",
    " - `Comparision` - strona dostępna pod adresem: `comparision_reporting`,\n",
    " - `Day by day reporting` - strona dostępna pod adresem: `day_by_day_reporting`\n",
    "\n",
    "Wskazówki:\n",
    " - `Wizualizacja danych > Dzień 4 > Callback context`,\n",
    " - `Wizualizacja danych > Dzień 4 > Aplikacja multipage`.\n",
    " - Używając komponentu [html.Button](https://community.plotly.com/t/button-with-link/11809), możesz łatwo stworzyć ładniejsze linki do poszczególnych stron."
   ]
  },
  {
   "cell_type": "markdown",
   "metadata": {},
   "source": [
    " Tutaj przygotuj layout aplikacji"
   ]
  },
  {
   "cell_type": "code",
   "execution_count": null,
   "metadata": {
    "tags": []
   },
   "outputs": [],
   "source": [
    "app = dash.Dash(__name__, suppress_callback_exceptions=True)"
   ]
  },
  {
   "cell_type": "code",
   "execution_count": null,
   "metadata": {
    "tags": []
   },
   "outputs": [],
   "source": [
    "app.layout = html.Div([\n",
    "    # Nawigacja\n",
    "    html.Div([\n",
    "        html.Button('TOP Report', id='top-report-button', n_clicks=0),\n",
    "        html.Button('Comparision', id='comparision-button', n_clicks=0),\n",
    "        html.Button('Day by Day Reporting', id='day-by-day-button', n_clicks=0)\n",
    "    ], style={'margin-bottom': '20px', 'padding': '10px'}),\n",
    "    \n",
    "    # Dynamiczny kontener na treści stron\n",
    "    html.Div(id='page-content')\n",
    "])"
   ]
  },
  {
   "cell_type": "code",
   "execution_count": null,
   "metadata": {},
   "outputs": [],
   "source": [
    "yoy_comparision_component = dcc.Graph(figure=yoy_comparision_fig)\n",
    "day_to_day_comparision_component = dcc.Graph(figure=day_to_day_comparision_fig)"
   ]
  },
  {
   "cell_type": "code",
   "execution_count": null,
   "metadata": {},
   "outputs": [],
   "source": [
    "top_routes_layout = html.Div([\n",
    "    top_routes_page_title,\n",
    "    top_routes_table\n",
    "])\n"
   ]
  },
  {
   "cell_type": "code",
   "execution_count": null,
   "metadata": {},
   "outputs": [],
   "source": [
    "comparision_layout = html.Div([\n",
    "    html.Div([\n",
    "        yoy_comparision_component\n",
    "    ], style={'width': '100%', 'margin-bottom': '20px'}),  # Stylizacja dla pierwszego wykresu\n",
    "    html.Div([\n",
    "        day_to_day_comparision_component\n",
    "    ], style={'width': '100%'})  # Stylizacja dla drugiego wykresu\n",
    "])"
   ]
  },
  {
   "cell_type": "code",
   "execution_count": null,
   "metadata": {},
   "outputs": [],
   "source": [
    "# Layout dla Day by Day Report\n",
    "day_by_day_layout = html.Div([\n",
    "    html.H3('Day by Day Reporting'),\n",
    "    dcc.Graph(figure=day_by_day_reliability_fig)  # Przykładowy wykres\n",
    "])"
   ]
  },
  {
   "cell_type": "markdown",
   "metadata": {},
   "source": [
    " Tutaj stwórz procedurę odpowiadającą za nawigację pomiędzy poszczególnymi stronami"
   ]
  },
  {
   "cell_type": "code",
   "execution_count": null,
   "metadata": {
    "tags": []
   },
   "outputs": [],
   "source": [
    "@app.callback(\n",
    "    Output('page-content', 'children'),\n",
    "    [Input('top-report-button', 'n_clicks'),\n",
    "     Input('comparision-button', 'n_clicks'),\n",
    "     Input('day-by-day-button', 'n_clicks')]\n",
    ")\n",
    "def display_page(top_report_clicks, comparision_clicks, day_by_day_clicks):\n",
    "    \n",
    "    if top_report_clicks is None:\n",
    "        top_report_clicks = 0\n",
    "    if comparision_clicks is None:\n",
    "        comparision_clicks = 0\n",
    "    if day_by_day_clicks is None:\n",
    "        day_by_day_clicks = 0\n",
    "\n",
    "    # Sprawdzanie, który przycisk ma najwyższą liczbę kliknięć\n",
    "    if top_report_clicks >= comparision_clicks and top_report_clicks >= day_by_day_clicks:\n",
    "        return top_routes_layout\n",
    "    elif comparision_clicks >= top_report_clicks and comparision_clicks >= day_by_day_clicks:\n",
    "        return comparision_layout\n",
    "    elif day_by_day_clicks >= top_report_clicks and day_by_day_clicks >= comparision_clicks:\n",
    "        return day_by_day_layout\n",
    "    \n",
    "    return top_routes_layout"
   ]
  },
  {
   "cell_type": "markdown",
   "metadata": {},
   "source": [
    " Tutaj uruchom aplikację"
   ]
  },
  {
   "cell_type": "code",
   "execution_count": null,
   "metadata": {
    "tags": []
   },
   "outputs": [],
   "source": [
    "# Uruchomienie aplikacji\n",
    "if __name__ == '__main__':\n",
    "    app.run_server(debug=True)"
   ]
  },
  {
   "cell_type": "markdown",
   "metadata": {},
   "source": [
    " # Podsumowanie\n",
    " W tym notatniku stworzyliśmy zgodnie z wymaganiami raport do dyspozycji osób decyzyjnych. Kod źródłowy może w tym momencie zostać przekazany dalej, do działu IT, który następnie wdroży rozwiązanie na serwer dostępny dla każdej zainteresowanej osoby. W praktyce oznacza to koniec naszej pracy nad tym zadaniem. Choć warto dodać, że często po udostępnieniu raportu pojawiają się dodatkowe wymagania oraz komentarze ze względu na informacje, które są tam zawarte.\n",
    "\n",
    " W kolejnym notatniku podsumujemy sobie cały warsztat."
   ]
  }
 ],
 "metadata": {
  "kernelspec": {
   "display_name": "Python 3 (ipykernel)",
   "language": "python",
   "name": "python3"
  },
  "language_info": {
   "codemirror_mode": {
    "name": "ipython",
    "version": 3
   },
   "file_extension": ".py",
   "mimetype": "text/x-python",
   "name": "python",
   "nbconvert_exporter": "python",
   "pygments_lexer": "ipython3",
   "version": "3.11.5"
  },
  "vscode": {
   "interpreter": {
    "hash": "38d75d0df746d7f75dd34c5d1915af59cb55786647bd68b8d9064425d7680b12"
   }
  }
 },
 "nbformat": 4,
 "nbformat_minor": 4
}
